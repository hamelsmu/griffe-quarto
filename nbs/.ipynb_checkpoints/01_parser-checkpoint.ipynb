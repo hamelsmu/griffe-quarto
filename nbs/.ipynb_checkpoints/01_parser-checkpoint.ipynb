{
 "cells": [
  {
   "cell_type": "markdown",
   "id": "76922f28-24b7-44ff-9c82-327acb92b24a",
   "metadata": {},
   "source": [
    "# parser\n",
    "> Parse objects for rendering in documentation."
   ]
  },
  {
   "cell_type": "code",
   "execution_count": null,
   "id": "f5417eef-f1dc-49bf-8028-6de939f1c2a0",
   "metadata": {},
   "outputs": [],
   "source": [
    "#|default_exp parser"
   ]
  },
  {
   "cell_type": "code",
   "execution_count": null,
   "id": "ad0a46b7-84ab-4282-9c4c-b0a1b0cbcca8",
   "metadata": {},
   "outputs": [],
   "source": [
    "import griffe\n",
    "from griffe.dataclasses import Function, Parameters"
   ]
  },
  {
   "cell_type": "code",
   "execution_count": null,
   "id": "00b0e36e-5eaa-46a0-be4c-a9d40d3b844a",
   "metadata": {},
   "outputs": [],
   "source": [
    "def func_data(func:Function):\n",
    "    assert func.is_function, f'{func} is not a function'\n",
    "    return {'func_name': func.name,\n",
    "            'parameters': [p.as_dict() for p in func.parameters]}"
   ]
  },
  {
   "cell_type": "code",
   "execution_count": null,
   "id": "38ca2c5a-b521-4d6d-ac9e-88f0df3acdd9",
   "metadata": {},
   "outputs": [
    {
     "data": {
      "text/plain": [
       "<Function('parallel', 103, 117)>"
      ]
     },
     "execution_count": null,
     "metadata": {},
     "output_type": "execute_result"
    }
   ],
   "source": [
    "func = griffe.load('fastcore.parallel.parallel')\n",
    "func"
   ]
  },
  {
   "cell_type": "code",
   "execution_count": null,
   "id": "c9fab902-38e7-4fb5-9100-962f76471e04",
   "metadata": {},
   "outputs": [
    {
     "data": {
      "text/plain": [
       "{'func_name': 'parallel',\n",
       " 'parameters': [{'name': 'f',\n",
       "   'annotation': None,\n",
       "   'kind': <ParameterKind.positional_or_keyword: 'positional or keyword'>,\n",
       "   'default': None},\n",
       "  {'name': 'items',\n",
       "   'annotation': None,\n",
       "   'kind': <ParameterKind.positional_or_keyword: 'positional or keyword'>,\n",
       "   'default': None},\n",
       "  {'name': 'args',\n",
       "   'annotation': None,\n",
       "   'kind': <ParameterKind.var_positional: 'variadic positional'>,\n",
       "   'default': '()'},\n",
       "  {'name': 'n_workers',\n",
       "   'annotation': None,\n",
       "   'kind': <ParameterKind.keyword_only: 'keyword-only'>,\n",
       "   'default': 'defaults.cpus'},\n",
       "  {'name': 'total',\n",
       "   'annotation': None,\n",
       "   'kind': <ParameterKind.keyword_only: 'keyword-only'>,\n",
       "   'default': 'None'},\n",
       "  {'name': 'progress',\n",
       "   'annotation': None,\n",
       "   'kind': <ParameterKind.keyword_only: 'keyword-only'>,\n",
       "   'default': 'None'},\n",
       "  {'name': 'pause',\n",
       "   'annotation': None,\n",
       "   'kind': <ParameterKind.keyword_only: 'keyword-only'>,\n",
       "   'default': '0'},\n",
       "  {'name': 'method',\n",
       "   'annotation': None,\n",
       "   'kind': <ParameterKind.keyword_only: 'keyword-only'>,\n",
       "   'default': 'None'},\n",
       "  {'name': 'threadpool',\n",
       "   'annotation': None,\n",
       "   'kind': <ParameterKind.keyword_only: 'keyword-only'>,\n",
       "   'default': 'False'},\n",
       "  {'name': 'timeout',\n",
       "   'annotation': None,\n",
       "   'kind': <ParameterKind.keyword_only: 'keyword-only'>,\n",
       "   'default': 'None'},\n",
       "  {'name': 'chunksize',\n",
       "   'annotation': None,\n",
       "   'kind': <ParameterKind.keyword_only: 'keyword-only'>,\n",
       "   'default': '1'},\n",
       "  {'name': 'kwargs',\n",
       "   'annotation': None,\n",
       "   'kind': <ParameterKind.var_keyword: 'variadic keyword'>,\n",
       "   'default': '{}'}]}"
      ]
     },
     "execution_count": null,
     "metadata": {},
     "output_type": "execute_result"
    }
   ],
   "source": [
    "func_data(func)"
   ]
  },
  {
   "cell_type": "code",
   "execution_count": null,
   "id": "b37e5f07-93aa-4378-b372-d6732e164386",
   "metadata": {},
   "outputs": [],
   "source": []
  }
 ],
 "metadata": {
  "kernelspec": {
   "display_name": "python3",
   "language": "python",
   "name": "python3"
  }
 },
 "nbformat": 4,
 "nbformat_minor": 5
}
