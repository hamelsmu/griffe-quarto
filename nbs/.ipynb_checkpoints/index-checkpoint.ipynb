{
 "cells": [
  {
   "cell_type": "markdown",
   "metadata": {},
   "source": [
    "# griffe-quarto\n",
    "\n",
    "> Generate reference api docs for Quarto."
   ]
  },
  {
   "cell_type": "markdown",
   "metadata": {},
   "source": [
    "This repo is experimental:  this is to explore possibilities of using griffe, mkdocstrings-python, jinja and more. "
   ]
  },
  {
   "cell_type": "code",
   "execution_count": null,
   "metadata": {},
   "outputs": [],
   "source": []
  }
 ],
 "metadata": {
  "kernelspec": {
   "display_name": "python3",
   "language": "python",
   "name": "python3"
  }
 },
 "nbformat": 4,
 "nbformat_minor": 4
}
