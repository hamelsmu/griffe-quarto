{
 "cells": [
  {
   "attachments": {},
   "cell_type": "markdown",
   "metadata": {},
   "source": [
    "# loader\n",
    "\n",
    "> Find the relevant Jinja template location and load that into the environment."
   ]
  },
  {
   "cell_type": "code",
   "execution_count": null,
   "metadata": {},
   "outputs": [],
   "source": [
    "#| default_exp loader"
   ]
  },
  {
   "cell_type": "code",
   "execution_count": null,
   "metadata": {},
   "outputs": [],
   "source": [
    "#| export\n",
    "import os\n",
    "from fastcore.all import Path, test_eq\n",
    "from contextlib import contextmanager\n",
    "from jinja2 import Environment, PackageLoader, select_autoescape, FileSystemLoader, ChoiceLoader"
   ]
  },
  {
   "cell_type": "code",
   "execution_count": null,
   "metadata": {},
   "outputs": [],
   "source": [
    "#| export\n",
    "@contextmanager\n",
    "def _set_directory(path: Path):\n",
    "    \"\"\"Changes the directory within the context\"\"\"\n",
    "    origin = Path().absolute()\n",
    "    try:\n",
    "        os.chdir(path)\n",
    "        yield\n",
    "    finally:\n",
    "        os.chdir(origin)"
   ]
  },
  {
   "cell_type": "code",
   "execution_count": null,
   "metadata": {},
   "outputs": [],
   "source": [
    "#| export\n",
    "def _return_pth(pth:Path):\n",
    "    \"return the path if it exists.  If yaml file, allow suffix to be .yml or .yaml\"\n",
    "    pth = Path(pth)\n",
    "    suffix = pth.suffix\n",
    "    alt_suffix = '.yaml' if suffix == '.yml' else '.yml'\n",
    "    alt_pth = pth.parent/f'{pth.stem}{alt_suffix}'\n",
    "    \n",
    "    if pth.exists(): \n",
    "        return pth\n",
    "    elif alt_pth.exists(): \n",
    "        return alt_pth"
   ]
  },
  {
   "cell_type": "code",
   "execution_count": null,
   "metadata": {},
   "outputs": [],
   "source": [
    "#|hide\n",
    "\n",
    "# doesn't matter if suffix is .yml or .yaml\n",
    "test_eq(_return_pth('_test_proj/_quarto.yaml'), _return_pth('_test_proj/_quarto.yml'))"
   ]
  },
  {
   "cell_type": "code",
   "execution_count": null,
   "metadata": {},
   "outputs": [],
   "source": [
    "#|export\n",
    "def _find_quarto_cfg(tpl_dir='_templates'):\n",
    "    \"find location of the `_quarto.yaml` file from the current directory.\"\n",
    "    # Iterate through parent directories\n",
    "    current_dir = Path(os.getcwd())\n",
    "    while True:\n",
    "        nm = _return_pth(current_dir/'_quarto.yml')\n",
    "        if nm: \n",
    "            return nm\n",
    "            \n",
    "        # Move to the parent directory\n",
    "        parent_dir = current_dir.parent\n",
    "\n",
    "        # Check if the current directory is the root directory\n",
    "        if parent_dir == current_dir: \n",
    "            break\n",
    "\n",
    "        current_dir = parent_dir"
   ]
  },
  {
   "cell_type": "code",
   "execution_count": null,
   "metadata": {},
   "outputs": [],
   "source": [
    "#|hide\n",
    "with _set_directory('_test_proj/test/'):\n",
    "    cfg_dir =  _find_quarto_cfg() \n",
    "\n",
    "# the _quarto.yml file lives in one directory up from `_test_proj/test/`\n",
    "test_eq(cfg_dir.relative_to(os.getcwd()), Path('_test_proj/_quarto.yml'))"
   ]
  },
  {
   "cell_type": "code",
   "execution_count": null,
   "metadata": {},
   "outputs": [],
   "source": [
    "#|export\n",
    "def _proj_templates():\n",
    "    \"Returns path to local project quartodoc_templates/ directory if exists.\"\n",
    "    # TODO: allow changing the location of templates folder via a config\n",
    "    cfg = _find_quarto_cfg()\n",
    "    if cfg: return cfg.parent/'quartodoc_templates/'"
   ]
  },
  {
   "cell_type": "code",
   "execution_count": null,
   "metadata": {},
   "outputs": [],
   "source": [
    "#|hide\n",
    "with _set_directory('_test_proj/test/'):\n",
    "    pth = _proj_templates()\n",
    "    \n",
    "test_eq(pth.relative_to(os.getcwd()), Path('_test_proj/quartodoc_templates'))"
   ]
  },
  {
   "attachments": {},
   "cell_type": "markdown",
   "metadata": {},
   "source": [
    "# Render a Jinja Template\n",
    "\n",
    "First, we must construct a Jinja environment by loading Jinja templates from the right location.  The following are the locations where templates are loaded from in order of precedence:\n",
    "    \n",
    "1. A `quartodoc_templates/` folder located at the root of your quarto project (in the same directory as `_quarto.yml`).\n",
    "2. A `.quartodoc/templates` folder located in your home directory\n",
    "3. The templates located in the `griffe_quarto` python package"
   ]
  },
  {
   "cell_type": "code",
   "execution_count": null,
   "metadata": {},
   "outputs": [],
   "source": [
    "#|exporti\n",
    "def env():\n",
    "    \"Constructs the Jinja environment with the right template loaders depending on the user's environment.\"\n",
    "    base_loaders = [FileSystemLoader(\"~/.quartodoc/templates\"), PackageLoader(\"griffe_quarto\")]\n",
    "    proj_tpl = _proj_templates()\n",
    "    loaders = [FileSystemLoader(proj_tpl)] + base_loaders if proj_tpl else base_loaders\n",
    "    \n",
    "    return Environment(\n",
    "        loader=ChoiceLoader(loaders),\n",
    "        autoescape=select_autoescape(),\n",
    "        trim_blocks=True,\n",
    "        lstrip_blocks=True)"
   ]
  },
  {
   "attachments": {},
   "cell_type": "markdown",
   "metadata": {},
   "source": [
    "Consider the following example where we have two templates:\n",
    "\n",
    "1. the parent template, `qmd.tpl` located in the `griffe_quarto` python package (in the `templates/` folder).\n",
    "2. the child template, `test.tpl` located in this quarto project in the `quartodoc_templates/` folder."
   ]
  },
  {
   "cell_type": "code",
   "execution_count": null,
   "metadata": {},
   "outputs": [
    {
     "name": "stdout",
     "output_type": "stream",
     "text": [
      "{% block frontmatter %}\n",
      "---\n",
      "title: {{ title }}\n",
      "{% if description %}\n",
      "description: {{ desc }}\n",
      "{% endif %}\n",
      "---\n",
      "{% endblock frontmatter %}\n",
      "\n",
      "{% block body %}{% endblock body %}\n"
     ]
    }
   ],
   "source": [
    "!cat ../griffe_quarto/templates/qmd.tpl"
   ]
  },
  {
   "cell_type": "code",
   "execution_count": null,
   "metadata": {},
   "outputs": [
    {
     "name": "stdout",
     "output_type": "stream",
     "text": [
      "{% extends \"qmd.tpl\" %}\n",
      "{% block body %}\n",
      "A test template with the variable `foo`: {{ foo }} \n",
      "Another line with the variable `bar`: {{ bar }}\n",
      "{% endblock %}"
     ]
    }
   ],
   "source": [
    "!cat quartodoc_templates/test.tpl"
   ]
  },
  {
   "attachments": {},
   "cell_type": "markdown",
   "metadata": {},
   "source": [
    "**We can render these templates like so:**\n",
    "\n",
    "Note that `test.tpl` inherits from `qmd.tpl`."
   ]
  },
  {
   "cell_type": "code",
   "execution_count": null,
   "metadata": {},
   "outputs": [
    {
     "name": "stdout",
     "output_type": "stream",
     "text": [
      "---\n",
      "title: A Test Title\n",
      "---\n",
      "\n",
      "A test template with the variable `foo`: abc123 \n",
      "Another line with the variable `bar`: xyz987\n",
      "\n"
     ]
    }
   ],
   "source": [
    "template = env().get_template(\"test.tpl\")\n",
    "\n",
    "_rendered = template.render(title='A Test Title', \n",
    "                            description=None, \n",
    "                            foo='abc123', \n",
    "                            bar='xyz987')\n",
    "print(_rendered)"
   ]
  },
  {
   "cell_type": "code",
   "execution_count": null,
   "metadata": {},
   "outputs": [],
   "source": [
    "#|hide\n",
    "\n",
    "test_eq(_rendered,\n",
    "\"\"\"---\n",
    "title: A Test Title\n",
    "---\n",
    "\n",
    "A test template with the variable `foo`: abc123 \n",
    "Another line with the variable `bar`: xyz987\n",
    "\"\"\")"
   ]
  },
  {
   "cell_type": "code",
   "execution_count": null,
   "metadata": {},
   "outputs": [],
   "source": [
    "#| hide\n",
    "import nbdev; nbdev.nbdev_export()"
   ]
  },
  {
   "cell_type": "code",
   "execution_count": null,
   "metadata": {},
   "outputs": [],
   "source": []
  }
 ],
 "metadata": {
  "kernelspec": {
   "display_name": "python3",
   "language": "python",
   "name": "python3"
  }
 },
 "nbformat": 4,
 "nbformat_minor": 4
}
