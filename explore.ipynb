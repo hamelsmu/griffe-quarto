{
 "cells": [
  {
   "cell_type": "code",
   "execution_count": null,
   "id": "33402d26-40fe-4744-b6ad-f79845d492a8",
   "metadata": {},
   "outputs": [],
   "source": [
    "import griffe\n",
    "\n",
    "Flow = griffe.load(\"metaflow.Flow\")"
   ]
  },
  {
   "cell_type": "code",
   "execution_count": null,
   "id": "72aee730-bea9-4114-937e-465437dfeb4a",
   "metadata": {},
   "outputs": [
    {
     "data": {
      "text/plain": [
       "<Alias('Flow', 'metaflow.client.Flow')>"
      ]
     },
     "execution_count": null,
     "metadata": {},
     "output_type": "execute_result"
    }
   ],
   "source": [
    "Flow"
   ]
  },
  {
   "cell_type": "code",
   "execution_count": null,
   "id": "32185838-b82d-40b0-8ee8-8e210f4d40bb",
   "metadata": {},
   "outputs": [
    {
     "data": {
      "text/plain": [
       "{'_NAME': <Attribute('_NAME', 2015, 2015)>,\n",
       " '_PARENT_CLASS': <Attribute('_PARENT_CLASS', 2016, 2016)>,\n",
       " '_CHILD_CLASS': <Attribute('_CHILD_CLASS', 2017, 2017)>,\n",
       " '__init__': <Function('__init__', 2019, 2020)>,\n",
       " 'latest_run': <Attribute('latest_run', 2023, 2036)>,\n",
       " 'latest_successful_run': <Attribute('latest_successful_run', 2039, 2050)>,\n",
       " 'runs': <Function('runs', 2052, 2070)>,\n",
       " '__getstate__': <Function('__getstate__', 2072, 2073)>,\n",
       " '__setstate__': <Function('__setstate__', 2075, 2076)>}"
      ]
     },
     "execution_count": null,
     "metadata": {},
     "output_type": "execute_result"
    }
   ],
   "source": [
    "Flow.members"
   ]
  },
  {
   "cell_type": "code",
   "execution_count": null,
   "id": "16e2554b-413e-4b27-bf69-9b789eb73427",
   "metadata": {},
   "outputs": [
    {
     "data": {
      "text/plain": [
       "['__annotations__',\n",
       " '__class__',\n",
       " '__delattr__',\n",
       " '__dict__',\n",
       " '__dir__',\n",
       " '__doc__',\n",
       " '__eq__',\n",
       " '__format__',\n",
       " '__ge__',\n",
       " '__getattribute__',\n",
       " '__getitem__',\n",
       " '__gt__',\n",
       " '__hash__',\n",
       " '__init__',\n",
       " '__init_subclass__',\n",
       " '__le__',\n",
       " '__len__',\n",
       " '__lt__',\n",
       " '__module__',\n",
       " '__ne__',\n",
       " '__new__',\n",
       " '__reduce__',\n",
       " '__reduce_ex__',\n",
       " '__repr__',\n",
       " '__setattr__',\n",
       " '__setitem__',\n",
       " '__sizeof__',\n",
       " '__str__',\n",
       " '__subclasshook__',\n",
       " '__weakref__',\n",
       " '_filepath',\n",
       " '_parent',\n",
       " '_passed_through',\n",
       " '_target',\n",
       " 'alias_endlineno',\n",
       " 'alias_lineno',\n",
       " 'aliases',\n",
       " 'annotation',\n",
       " 'as_dict',\n",
       " 'attributes',\n",
       " 'bases',\n",
       " 'canonical_path',\n",
       " 'classes',\n",
       " 'decorators',\n",
       " 'deleter',\n",
       " 'docstring',\n",
       " 'endlineno',\n",
       " 'exports',\n",
       " 'filepath',\n",
       " 'filter_members',\n",
       " 'functions',\n",
       " 'has_docstring',\n",
       " 'has_docstrings',\n",
       " 'has_labels',\n",
       " 'imports',\n",
       " 'is_alias',\n",
       " 'is_attribute',\n",
       " 'is_class',\n",
       " 'is_collection',\n",
       " 'is_explicitely_exported',\n",
       " 'is_exported',\n",
       " 'is_function',\n",
       " 'is_implicitely_exported',\n",
       " 'is_kind',\n",
       " 'is_module',\n",
       " 'kind',\n",
       " 'labels',\n",
       " 'lineno',\n",
       " 'lines',\n",
       " 'lines_collection',\n",
       " 'member_is_exported',\n",
       " 'members',\n",
       " 'module',\n",
       " 'modules',\n",
       " 'modules_collection',\n",
       " 'name',\n",
       " 'overloads',\n",
       " 'package',\n",
       " 'parameters',\n",
       " 'parent',\n",
       " 'path',\n",
       " 'relative_filepath',\n",
       " 'resolve',\n",
       " 'resolve_target',\n",
       " 'resolved',\n",
       " 'returns',\n",
       " 'runtime',\n",
       " 'setter',\n",
       " 'source',\n",
       " 'target',\n",
       " 'target_path',\n",
       " 'value',\n",
       " 'wildcard']"
      ]
     },
     "execution_count": null,
     "metadata": {},
     "output_type": "execute_result"
    }
   ],
   "source": [
    "dir(Flow)"
   ]
  },
  {
   "cell_type": "code",
   "execution_count": null,
   "id": "88f9ebef-c0b2-4be8-908a-cadf15476f3d",
   "metadata": {},
   "outputs": [
    {
     "name": "stdout",
     "output_type": "stream",
     "text": [
      "[positional or keyword] self: None = None\n",
      "[variadic positional] args: None = ()\n",
      "[variadic keyword] kwargs: None = {}\n"
     ]
    }
   ],
   "source": [
    "for p in Flow.parameters:\n",
    "    print(p)"
   ]
  },
  {
   "cell_type": "code",
   "execution_count": null,
   "id": "c322768c-d46f-43dd-8df5-75e351962bfc",
   "metadata": {},
   "outputs": [
    {
     "data": {
      "text/plain": [
       "{'__init__': <Function('__init__', 2019, 2020)>,\n",
       " 'runs': <Function('runs', 2052, 2070)>,\n",
       " '__getstate__': <Function('__getstate__', 2072, 2073)>,\n",
       " '__setstate__': <Function('__setstate__', 2075, 2076)>}"
      ]
     },
     "execution_count": null,
     "metadata": {},
     "output_type": "execute_result"
    }
   ],
   "source": [
    "Flow.functions"
   ]
  },
  {
   "cell_type": "code",
   "execution_count": null,
   "id": "42b5f876-c180-4373-975b-27371987d8af",
   "metadata": {},
   "outputs": [
    {
     "data": {
      "text/plain": [
       "{'_NAME': <Attribute('_NAME', 2015, 2015)>,\n",
       " '_PARENT_CLASS': <Attribute('_PARENT_CLASS', 2016, 2016)>,\n",
       " '_CHILD_CLASS': <Attribute('_CHILD_CLASS', 2017, 2017)>,\n",
       " '__init__': <Function('__init__', 2019, 2020)>,\n",
       " 'latest_run': <Attribute('latest_run', 2023, 2036)>,\n",
       " 'latest_successful_run': <Attribute('latest_successful_run', 2039, 2050)>,\n",
       " 'runs': <Function('runs', 2052, 2070)>,\n",
       " '__getstate__': <Function('__getstate__', 2072, 2073)>,\n",
       " '__setstate__': <Function('__setstate__', 2075, 2076)>}"
      ]
     },
     "execution_count": null,
     "metadata": {},
     "output_type": "execute_result"
    }
   ],
   "source": [
    "Flow.members"
   ]
  },
  {
   "cell_type": "code",
   "execution_count": null,
   "id": "335849a5-0e86-44ea-9a9b-0bb35c9d43e4",
   "metadata": {},
   "outputs": [
    {
     "data": {
      "text/plain": [
       "{'_NAME': <Attribute('_NAME', 2015, 2015)>,\n",
       " '_PARENT_CLASS': <Attribute('_PARENT_CLASS', 2016, 2016)>,\n",
       " '_CHILD_CLASS': <Attribute('_CHILD_CLASS', 2017, 2017)>,\n",
       " 'latest_run': <Attribute('latest_run', 2023, 2036)>,\n",
       " 'latest_successful_run': <Attribute('latest_successful_run', 2039, 2050)>}"
      ]
     },
     "execution_count": null,
     "metadata": {},
     "output_type": "execute_result"
    }
   ],
   "source": [
    "Flow.attributes"
   ]
  },
  {
   "cell_type": "code",
   "execution_count": null,
   "id": "e2f162ac-d976-420b-b111-8a160daa1bf3",
   "metadata": {},
   "outputs": [],
   "source": [
    "attr = Flow.attributes['latest_run']"
   ]
  },
  {
   "cell_type": "code",
   "execution_count": null,
   "id": "2bcc3cd0-9f8f-4175-bc06-23fc3479bc28",
   "metadata": {},
   "outputs": [
    {
     "data": {
      "text/plain": [
       "'latest_run'"
      ]
     },
     "execution_count": null,
     "metadata": {},
     "output_type": "execute_result"
    }
   ],
   "source": [
    "attr.name"
   ]
  },
  {
   "cell_type": "code",
   "execution_count": null,
   "id": "89742bb2-a8d5-4ba6-a009-cecfc30a4b86",
   "metadata": {},
   "outputs": [
    {
     "data": {
      "text/plain": [
       "{'latest_run': <Attribute('latest_run', 2023, 2036)>,\n",
       " 'latest_successful_run': <Attribute('latest_successful_run', 2039, 2050)>,\n",
       " 'runs': <Function('runs', 2052, 2070)>}"
      ]
     },
     "execution_count": null,
     "metadata": {},
     "output_type": "execute_result"
    }
   ],
   "source": [
    "Flow.filter_members(lambda x: not x.name.startswith('_'))"
   ]
  },
  {
   "cell_type": "code",
   "execution_count": null,
   "id": "4ff9a624-ac94-465c-8278-e6a4fbf25184",
   "metadata": {},
   "outputs": [
    {
     "data": {
      "text/plain": [
       "'Returns the latest run (either in progress or completed) of this flow.\\n\\nNote that an in-progress run may be returned by this call. Use latest_successful_run\\nto get an object representing a completed successful run.\\n\\nReturns\\n-------\\nRun, optional\\n    Latest run of this flow'"
      ]
     },
     "execution_count": null,
     "metadata": {},
     "output_type": "execute_result"
    }
   ],
   "source": [
    "attr.docstring.value"
   ]
  },
  {
   "cell_type": "code",
   "execution_count": null,
   "id": "d5a85652-9fc5-47c8-8b7b-6b90ea311e74",
   "metadata": {},
   "outputs": [],
   "source": []
  }
 ],
 "metadata": {
  "kernelspec": {
   "display_name": "python3",
   "language": "python",
   "name": "python3"
  }
 },
 "nbformat": 4,
 "nbformat_minor": 5
}
